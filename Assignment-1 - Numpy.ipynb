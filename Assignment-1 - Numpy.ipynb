{
 "cells": [
  {
   "cell_type": "code",
   "execution_count": 17,
   "id": "e6123a6c",
   "metadata": {},
   "outputs": [
    {
     "name": "stdout",
     "output_type": "stream",
     "text": [
      "[0. 0. 0. 0. 1. 0. 0. 0. 0. 0.]\n"
     ]
    }
   ],
   "source": [
    "import numpy as np\n",
    "\n",
    "# 1. Create a null vector of size 10 but the fifth value which is 1\n",
    "\n",
    "vector = np.zeros(10)\n",
    "vector[4]=1\n",
    "print(vector)"
   ]
  },
  {
   "cell_type": "code",
   "execution_count": 3,
   "id": "825235ae",
   "metadata": {},
   "outputs": [
    {
     "name": "stdout",
     "output_type": "stream",
     "text": [
      "Values Ranging from 10 to 49 [10 11 12 13 14 15 16 17 18 19 20 21 22 23 24 25 26 27 28 29 30 31 32 33\n",
      " 34 35 36 37 38 39 40 41 42 43 44 45 46 47 48 49]\n"
     ]
    }
   ],
   "source": [
    "# 2. Create a vector with values ranging from 10 to 49.\n",
    "\n",
    "arr = np.arange(10,50)\n",
    "print(\"Values Ranging from 10 to 49\" ,arr)"
   ]
  },
  {
   "cell_type": "code",
   "execution_count": 4,
   "id": "e9bf9cb3",
   "metadata": {},
   "outputs": [
    {
     "name": "stdout",
     "output_type": "stream",
     "text": [
      "[[0 1 2]\n",
      " [3 4 5]\n",
      " [6 7 8]]\n"
     ]
    }
   ],
   "source": [
    "# 3. Create a 3x3 matrix with values ranging from 0 to 8\n",
    "\n",
    "matrix = np.arange(9).reshape(3,3)\n",
    "print(matrix)"
   ]
  },
  {
   "cell_type": "code",
   "execution_count": 16,
   "id": "506ff436",
   "metadata": {},
   "outputs": [
    {
     "name": "stdout",
     "output_type": "stream",
     "text": [
      "Indices of non-zero Elements are  [0 1 4]\n"
     ]
    }
   ],
   "source": [
    "# 4. Find indices of non-zero elements from [1,2,0,0,4,0]\n",
    "\n",
    "elements = np.array([1,2,0,0,47,0])\n",
    "result = np.where(elements != 0)[0]\n",
    "print(\"Indices of non-zero Elements are \",result)"
   ]
  },
  {
   "cell_type": "code",
   "execution_count": 19,
   "id": "9752f65f",
   "metadata": {},
   "outputs": [
    {
     "name": "stdout",
     "output_type": "stream",
     "text": [
      "[[39 92 54 84 45 72 51  3 86 68]\n",
      " [70 80 27  1 25 22 23 58 67 94]\n",
      " [95 35 35 90  3 67 75  7 82 35]\n",
      " [73 71 19 40 45 41 96 56 66 64]\n",
      " [68 93 84 28 40 64 55 19 72 66]\n",
      " [22 15 68 45 46 19 67 14 63 94]\n",
      " [39 16 96 50 82 24 60 25 93 22]\n",
      " [93 40 26 70 56 82 99 90 36 56]\n",
      " [58 67 45 16 78 49 40 54 86 56]\n",
      " [21 60 96 45 55 15  4 85 58 99]]\n",
      "Min =  1\n",
      "Max =  99\n"
     ]
    }
   ],
   "source": [
    "# 5. Create a 10x10 array with random values and find the minimum and maximum values.\n",
    "\n",
    "arr = np.random.randint(100,size=(10,10))\n",
    "print(arr)\n",
    "min = np.min(arr)\n",
    "max = np.max(arr)\n",
    "print(\"Min = \",min)\n",
    "print(\"Max = \",max)"
   ]
  },
  {
   "cell_type": "code",
   "execution_count": 22,
   "id": "3034652a",
   "metadata": {},
   "outputs": [
    {
     "name": "stdout",
     "output_type": "stream",
     "text": [
      "[[89 89 91]\n",
      " [66 12  3]\n",
      " [43 51 74]\n",
      " [52 59 68]\n",
      " [84  8 93]\n",
      " [75 99 63]\n",
      " [15 10 11]\n",
      " [83 20 47]\n",
      " [91 67 38]\n",
      " [74 77 35]]\n",
      "Mean Value =  56.233333333333334\n"
     ]
    }
   ],
   "source": [
    "# 6. Create a random vector of size 30 and find the mean value.\n",
    "\n",
    "vector = np.random.randint(100,size=(10,3))\n",
    "result = vector.mean()\n",
    "print(vector)\n",
    "print(\"Mean Value = \",result)"
   ]
  },
  {
   "cell_type": "code",
   "execution_count": null,
   "id": "35519c7c",
   "metadata": {},
   "outputs": [],
   "source": []
  }
 ],
 "metadata": {
  "kernelspec": {
   "display_name": "Python 3 (ipykernel)",
   "language": "python",
   "name": "python3"
  },
  "language_info": {
   "codemirror_mode": {
    "name": "ipython",
    "version": 3
   },
   "file_extension": ".py",
   "mimetype": "text/x-python",
   "name": "python",
   "nbconvert_exporter": "python",
   "pygments_lexer": "ipython3",
   "version": "3.10.9"
  }
 },
 "nbformat": 4,
 "nbformat_minor": 5
}
